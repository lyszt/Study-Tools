{
 "cells": [
  {
   "cell_type": "markdown",
   "id": "8a77807f92f26ee",
   "metadata": {},
   "source": [
    "# This is a sample Jupyter Notebook\n",
    "\n",
    "Below is an example of a code cell. \n",
    "Put your cursor into the cell and press Shift+Enter to execute it and select the next one, or click 'Run Cell' button.\n",
    "\n",
    "Press Double Shift to search everywhere for classes, files, tool windows, actions, and settings.\n",
    "\n",
    "To learn more about Jupyter Notebooks in PyCharm, see [help](https://www.jetbrains.com/help/pycharm/ipython-notebook-support.html).\n",
    "For an overview of PyCharm, go to Help -> Learn IDE features or refer to [our documentation](https://www.jetbrains.com/help/pycharm/getting-started.html)."
   ]
  },
  {
   "cell_type": "code",
   "id": "386b61a3-28b1-4418-ab50-06190ac182a4",
   "metadata": {},
   "source": [
    "import random\n",
    "from IPython.display import display, Markdown, Latex, clear_output, display_markdown\n",
    "import sys\n",
    "\n",
    "num_list = []\n",
    "for i in range(10):\n",
    "    rn = random.randint(0,20)\n",
    "    while rn in num_list:\n",
    "        rn = random.randint(0,20)\n",
    "    num_list.append(rn)\n",
    "num = str(num_list).replace(\"[\",\"\").replace(\"]\",\"\")\n",
    "display(Markdown((f\"# ``` {num} ```\" )))\n",
    "\n",
    "for i in range(0, len(num_list)):\n",
    "    ch = int(input())\n",
    "    while(ch not in num_list or ch == -1):\n",
    "        ch = int(input())\n",
    "    if ch == -1:\n",
    "        sys.exit(0)\n",
    "    num_list[i] = \"x\"\n",
    "    num = str(num_list).replace(\"[\",\"\").replace(\"]\",\"\")\n",
    "    clear_output()\n",
    "    display(Markdown((f\"# ``` {num} ```\" )))\n"
   ],
   "execution_count": 1,
   "outputs": [
    {
     "data": {
      "text/plain": [
       "<IPython.core.display.Markdown object>"
      ],
      "text/markdown": "# ``` 'x', 'x', 'x', 'x', 'x', 'x', 'x', 'x', 'x', 10 ```"
     },
     "metadata": {},
     "output_type": "display_data"
    }
   ]
  }
 ],
 "metadata": {
  "kernelspec": {
   "display_name": "Python 3 (ipykernel)",
   "language": "python",
   "name": "python3"
  },
  "language_info": {
   "codemirror_mode": {
    "name": "ipython",
    "version": 3
   },
   "file_extension": ".py",
   "mimetype": "text/x-python",
   "name": "python",
   "nbconvert_exporter": "python",
   "pygments_lexer": "ipython3",
   "version": "3.12.3"
  }
 },
 "nbformat": 4,
 "nbformat_minor": 5
}
