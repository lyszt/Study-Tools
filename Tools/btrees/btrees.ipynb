{
 "cells": [
  {
   "cell_type": "markdown",
   "id": "8a77807f92f26ee",
   "metadata": {},
   "source": [
    "# For adding\n",
    "\n",
    "We use this function for adding numbers to a B-tree, so I can generate numbers and keep track"
   ]
  },
  {
   "cell_type": "code",
   "id": "386b61a3-28b1-4418-ab50-06190ac182a4",
   "metadata": {},
   "source": [
    "import random\n",
    "from IPython.display import display, Markdown, Latex, clear_output, display_markdown\n",
    "import sys\n",
    "\n",
    "num_list = []\n",
    "for i in range(10):\n",
    "    rn = random.randint(0,20)\n",
    "    while rn in num_list:\n",
    "        rn = random.randint(0,20)\n",
    "    num_list.append(rn)\n",
    "num = str(num_list).replace(\"[\",\"\").replace(\"]\",\"\")\n",
    "display(Markdown((f\"# ``` {num} ```\" )))\n",
    "\n",
    "for i in range(0, len(num_list)):\n",
    "    ch = int(input())\n",
    "    while(ch not in num_list or ch == -1):\n",
    "        ch = int(input())\n",
    "    if ch == -1:\n",
    "        sys.exit(0)\n",
    "    num_list[i] = \"x\"\n",
    "    num = str(num_list).replace(\"[\",\"\").replace(\"]\",\"\")\n",
    "    clear_output()\n",
    "    display(Markdown((f\"# ``` {num} ```\" )))\n"
   ],
   "execution_count": 1,
   "outputs": [
    {
     "data": {
      "text/plain": [
       "<IPython.core.display.Markdown object>"
      ],
      "text/markdown": "# ``` 'x', 'x', 'x', 'x', 'x', 'x', 'x', 'x', 'x', 10 ```"
     },
     "metadata": {},
     "output_type": "display_data"
    }
   ]
  },
  {
   "metadata": {},
   "cell_type": "markdown",
   "source": [
    "# For removing\n",
    "We'll use this for the opposite, adding a list and removing numbers. This helps me keep track."
   ],
   "id": "3ada887e1e0c3a90"
  },
  {
   "metadata": {
    "jupyter": {
     "is_executing": true
    }
   },
   "cell_type": "code",
   "source": [
    "import random\n",
    "from IPython.display import display, Markdown, Latex, clear_output, display_markdown\n",
    "import sys\n",
    "import easygui\n",
    "\n",
    "num_list = list(map(int, input().split()))\n",
    "removed_numbers = []\n",
    "while len(num_list) > 0:\n",
    "    clear_output()\n",
    "    element_to_remove = random.choice(num_list)\n",
    "    removed_numbers.append(element_to_remove)\n",
    "    display(Markdown((f\"# ``` Removed numbers: {removed_numbers} \\n \"\n",
    "                      f\"{num_list}  \"\n",
    "                      f\"Remove {element_to_remove}```\" )))\n",
    "    num_list.remove(element_to_remove)\n",
    "    easygui.msgbox(\"Press enter to continue.\", \"Ready?\")\n"
   ],
   "id": "91e93592f18430a8",
   "execution_count": null,
   "outputs": [
    {
     "data": {
      "text/plain": [
       "<IPython.core.display.Markdown object>"
      ],
      "text/markdown": "# ``` [6, 5, 16, 0, 11, 12, 19, 20]  Remove 16```"
     },
     "metadata": {},
     "output_type": "display_data"
    }
   ]
  },
  {
   "metadata": {},
   "cell_type": "code",
   "outputs": [],
   "execution_count": null,
   "source": "",
   "id": "20edb9d34cd1297e"
  }
 ],
 "metadata": {
  "kernelspec": {
   "display_name": "Python 3 (ipykernel)",
   "language": "python",
   "name": "python3"
  },
  "language_info": {
   "codemirror_mode": {
    "name": "ipython",
    "version": 3
   },
   "file_extension": ".py",
   "mimetype": "text/x-python",
   "name": "python",
   "nbconvert_exporter": "python",
   "pygments_lexer": "ipython3",
   "version": "3.12.3"
  }
 },
 "nbformat": 4,
 "nbformat_minor": 5
}
