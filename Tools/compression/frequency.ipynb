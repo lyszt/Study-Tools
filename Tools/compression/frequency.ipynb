{
 "cells": [
  {
   "metadata": {},
   "cell_type": "markdown",
   "source": [
    "# Frequency\n",
    "\n",
    "This will automatically get the frequency of words, sort them by frequency and sort them by ascii order if they're the same frequency."
   ],
   "id": "687c20cf45eec2f9"
  },
  {
   "metadata": {
    "ExecuteTime": {
     "end_time": "2025-05-29T22:50:35.651988Z",
     "start_time": "2025-05-29T22:50:34.508174Z"
    }
   },
   "cell_type": "code",
   "source": [
    "from IPython.display import display, Markdown, Latex, clear_output, display_markdown\n",
    "\n",
    "\n",
    "word = input()\n",
    "word = sorted(word)\n",
    "letters = set()\n",
    "count = [[0 * len(word)] for _ in range(len(word))]\n",
    "count[0].remove(0)\n",
    "count[1].remove(0)\n",
    "\n",
    "for char in word:\n",
    "    if char not in letters: letters.add(char)\n",
    "for i, char in enumerate(word):\n",
    "    if char not in count[0]:\n",
    "        count[1].append(word.count(char))\n",
    "        count[0].append(char)\n",
    "\n",
    "final_output = [f\"{count[0]}\".replace(\"'\",\"\").replace(\"[\",\"\").replace(\"]\",\"\").replace(\", \",\"|\"), f\"{count[1]}\".replace(\"'\",\"\").replace(\"[\",\"\").replace(\"]\",\"\").replace(\", \",\"|\")]\n",
    "display(Markdown(f\"- {final_output[0]}\\n\"\n",
    "                 f\"- {final_output[1]}\"))"
   ],
   "id": "aa44edcfbb21a531",
   "outputs": [
    {
     "data": {
      "text/plain": [
       "<IPython.core.display.Markdown object>"
      ],
      "text/markdown": "- _|a|c|d|e|i|m|n|o|p|t|u\n- 2|4|4|1|1|2|1|1|2|1|1|1"
     },
     "metadata": {},
     "output_type": "display_data"
    }
   ],
   "execution_count": 28
  },
  {
   "metadata": {},
   "cell_type": "code",
   "outputs": [],
   "execution_count": null,
   "source": "",
   "id": "456873e648bd5854"
  }
 ],
 "metadata": {
  "kernelspec": {
   "display_name": "Python 3",
   "language": "python",
   "name": "python3"
  },
  "language_info": {
   "codemirror_mode": {
    "name": "ipython",
    "version": 2
   },
   "file_extension": ".py",
   "mimetype": "text/x-python",
   "name": "python",
   "nbconvert_exporter": "python",
   "pygments_lexer": "ipython2",
   "version": "2.7.6"
  }
 },
 "nbformat": 4,
 "nbformat_minor": 5
}
